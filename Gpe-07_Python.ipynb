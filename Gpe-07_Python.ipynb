{
 "cells": [
  {
   "cell_type": "markdown",
   "id": "7b304789",
   "metadata": {},
   "source": [
    "# Analyse des données Vélib sur Python"
   ]
  },
  {
   "cell_type": "code",
   "execution_count": null,
   "id": "7be548af-c876-485e-aef2-508b3004f82c",
   "metadata": {
    "tags": []
   },
   "outputs": [
    {
     "name": "stdout",
     "output_type": "stream",
     "text": [
      "Requirement already satisfied: yellowbrick in c:\\users\\clldj\\anaconda3\\lib\\site-packages (1.5)\n",
      "Requirement already satisfied: matplotlib!=3.0.0,>=2.0.2 in c:\\users\\clldj\\anaconda3\\lib\\site-packages (from yellowbrick) (3.8.0)\n",
      "Requirement already satisfied: scipy>=1.0.0 in c:\\users\\clldj\\anaconda3\\lib\\site-packages (from yellowbrick) (1.11.4)\n",
      "Requirement already satisfied: scikit-learn>=1.0.0 in c:\\users\\clldj\\anaconda3\\lib\\site-packages (from yellowbrick) (1.2.2)\n",
      "Requirement already satisfied: numpy>=1.16.0 in c:\\users\\clldj\\anaconda3\\lib\\site-packages (from yellowbrick) (1.26.4)\n",
      "Requirement already satisfied: cycler>=0.10.0 in c:\\users\\clldj\\anaconda3\\lib\\site-packages (from yellowbrick) (0.11.0)\n",
      "Requirement already satisfied: contourpy>=1.0.1 in c:\\users\\clldj\\anaconda3\\lib\\site-packages (from matplotlib!=3.0.0,>=2.0.2->yellowbrick) (1.2.0)\n",
      "Requirement already satisfied: fonttools>=4.22.0 in c:\\users\\clldj\\anaconda3\\lib\\site-packages (from matplotlib!=3.0.0,>=2.0.2->yellowbrick) (4.25.0)\n",
      "Requirement already satisfied: kiwisolver>=1.0.1 in c:\\users\\clldj\\anaconda3\\lib\\site-packages (from matplotlib!=3.0.0,>=2.0.2->yellowbrick) (1.4.4)\n",
      "Requirement already satisfied: packaging>=20.0 in c:\\users\\clldj\\anaconda3\\lib\\site-packages (from matplotlib!=3.0.0,>=2.0.2->yellowbrick) (23.1)\n",
      "Requirement already satisfied: pillow>=6.2.0 in c:\\users\\clldj\\anaconda3\\lib\\site-packages (from matplotlib!=3.0.0,>=2.0.2->yellowbrick) (10.2.0)\n",
      "Requirement already satisfied: pyparsing>=2.3.1 in c:\\users\\clldj\\anaconda3\\lib\\site-packages (from matplotlib!=3.0.0,>=2.0.2->yellowbrick) (3.0.9)\n",
      "Requirement already satisfied: python-dateutil>=2.7 in c:\\users\\clldj\\anaconda3\\lib\\site-packages (from matplotlib!=3.0.0,>=2.0.2->yellowbrick) (2.8.2)\n",
      "Requirement already satisfied: joblib>=1.1.1 in c:\\users\\clldj\\anaconda3\\lib\\site-packages (from scikit-learn>=1.0.0->yellowbrick) (1.2.0)\n",
      "Requirement already satisfied: threadpoolctl>=2.0.0 in c:\\users\\clldj\\anaconda3\\lib\\site-packages (from scikit-learn>=1.0.0->yellowbrick) (2.2.0)\n",
      "Requirement already satisfied: six>=1.5 in c:\\users\\clldj\\anaconda3\\lib\\site-packages (from python-dateutil>=2.7->matplotlib!=3.0.0,>=2.0.2->yellowbrick) (1.16.0)\n"
     ]
    }
   ],
   "source": [
    "!pip install yellowbrick\n",
    "!pip install prince"
   ]
  },
  {
   "cell_type": "code",
   "execution_count": null,
   "id": "9f1b5622",
   "metadata": {
    "tags": []
   },
   "outputs": [],
   "source": [
    "import pandas as pd\n",
    "import numpy as np\n",
    "import random as rd\n",
    "from sklearn.metrics import silhouette_score\n",
    "from sklearn.cluster import KMeans\n",
    "from sklearn.mixture import GaussianMixture\n",
    "from sklearn.cluster import AgglomerativeClustering\n",
    "from sklearn.decomposition import PCA\n",
    "from sklearn.preprocessing import StandardScaler\n",
    "from sklearn.metrics import confusion_matrix, ConfusionMatrixDisplay\n",
    "from scipy.spatial.distance import cdist\n",
    "import scipy.cluster.hierarchy as sch\n",
    "import yellowbrick\n",
    "from yellowbrick.cluster import KElbowVisualizer\n",
    "from yellowbrick.cluster import SilhouetteVisualizer\n",
    "import csv\n",
    "import matplotlib.pyplot as plt\n",
    "import matplotlib.cm as cm\n",
    "import matplotlib.patches as mpatches\n",
    "import matplotlib.colors as mcolors\n",
    "from matplotlib import cm\n",
    "import seaborn as sns\n",
    "import plotly.express as px\n",
    "from ipywidgets import interact, Dropdown, IntSlider\n",
    "import prince\n",
    "from prince import MCA\n",
    "\n",
    "%matplotlib inline\n",
    "plt.rcParams[\"font.size\"] = 10\n",
    "plt.rcParams[\"figure.figsize\"] = (10, 5)\n",
    "\n",
    "loading = pd.read_csv(\"data/velibLoading.csv\", sep = \" \")\n",
    "coord = pd.read_csv(\"data/velibCoord.csv\", sep = \" \")"
   ]
  },
  {
   "cell_type": "markdown",
   "id": "bbd41e53",
   "metadata": {},
   "source": [
    "# I - Analyse exploratoire des données"
   ]
  },
  {
   "cell_type": "markdown",
   "id": "b5cedc4d",
   "metadata": {},
   "source": [
    "## I.1 - Visualisation des données"
   ]
  },
  {
   "cell_type": "code",
   "execution_count": null,
   "id": "7c484b88",
   "metadata": {
    "tags": []
   },
   "outputs": [],
   "source": [
    "coord.head()"
   ]
  },
  {
   "cell_type": "code",
   "execution_count": null,
   "id": "296aa8c1",
   "metadata": {
    "tags": []
   },
   "outputs": [],
   "source": [
    "loading.describe(include = \"number\")"
   ]
  },
  {
   "cell_type": "code",
   "execution_count": null,
   "id": "caa0fdbf",
   "metadata": {
    "tags": []
   },
   "outputs": [],
   "source": [
    "print(loading.shape)"
   ]
  },
  {
   "cell_type": "markdown",
   "id": "a2edb4f1-3b70-42c6-aa6b-a8291bfb4b4d",
   "metadata": {},
   "source": [
    "## Imputation des données manquantes et unicité des individus"
   ]
  },
  {
   "cell_type": "markdown",
   "id": "4df4864e",
   "metadata": {
    "tags": []
   },
   "source": [
    "Nous allons nous assurer qu'il n'y ait pas de données manquantes ou de redondance dans nos individus qui introduiraient des biais dans notre analyse"
   ]
  },
  {
   "cell_type": "code",
   "execution_count": null,
   "id": "dfadd76f",
   "metadata": {
    "tags": []
   },
   "outputs": [],
   "source": [
    "print(\"Il y a \" + str(loading.isnull().any(axis = 0).sum()) + \" ligne vide dans loading\") # teste sur les lignes\n",
    "print(\"Il y a \" + str(loading.isnull().any(axis = 1).sum()) + \" colonne vide dans loading\") # teste sur les colonnes\n",
    "print(\"\")\n",
    "print(\"Il y a \" + str(coord.isnull().any(axis = 0).sum()) + \" ligne vide dans coord\") # teste sur les lignes\n",
    "print(\"Il y a \" + str(coord.isnull().any(axis = 1).sum()) + \" colonne vide dans coord\") # teste sur les colonnes\n",
    "print(\"\")\n",
    "print(\"Il y a \" + str(loading.duplicated().sum()) + \" ligne identique dans loading\") # teste sur loading\n",
    "print(\"Il y a \" + str(coord.duplicated().sum()) + \" ligne identique dans coord\") # teste sur coord"
   ]
  },
  {
   "cell_type": "code",
   "execution_count": null,
   "id": "cf3c0634",
   "metadata": {
    "tags": []
   },
   "outputs": [],
   "source": [
    "# regroupe les lignes de coord par station\n",
    "station_names = coord.names.value_counts().sort_values(ascending = False)\n",
    "print(station_names)"
   ]
  },
  {
   "cell_type": "markdown",
   "id": "731dc455-549f-4a0d-ac90-c2e88f450014",
   "metadata": {},
   "source": [
    "## I.2 - Evolution du remplissage dans le temps"
   ]
  },
  {
   "cell_type": "code",
   "execution_count": null,
   "id": "3aaa79de",
   "metadata": {
    "tags": []
   },
   "outputs": [],
   "source": [
    "stations = np.arange(loading.shape[0])\n",
    "rd.shuffle(stations)\n",
    "stations = stations[:4]\n",
    "\n",
    "loading_data = loading.to_numpy()\n",
    "\n",
    "n_steps = loading.shape[1]  # number of observed time steps\n",
    "time_range = np.linspace(1, n_steps, n_steps)  # observed time range\n",
    "time_tick  = np.linspace(1, n_steps, 8)  # beginning of days\n",
    "\n",
    "fig, axs = plt.subplots(2, 2, figsize = (15,12))\n",
    "\n",
    "for i in range(2):\n",
    "    for j in range(2):\n",
    "        k_station = stations[2 * i + j]\n",
    "        axs[i, j].plot(time_range, loading_data[k_station, :], linewidth = 1, color = \"blue\")\n",
    "        axs[i, j].vlines(x = time_tick, ymin = 0, ymax = 1, colors = \"orange\", linestyle = \"dotted\", linewidth = 3)\n",
    "        axs[i, j].set_title(coord.names[1 + k_station], fontsize = 12)\n",
    "        \n",
    "for ax in axs.flat:\n",
    "    ax.set_xlabel('Temps', fontsize = 12)\n",
    "    ax.set_ylabel('Remplissage', fontsize = 12)\n",
    "    ax.tick_params(axis='x', labelsize=10)\n",
    "    ax.tick_params(axis='y', labelsize=10)\n",
    "    ax.axvspan(0,6, color='lightblue', alpha=0.3)\n",
    "    for i in range(n_steps):\n",
    "        if i % 24 == 20:\n",
    "            ax.axvspan(i,i+9, color='lightblue', alpha=0.5)\n",
    "    ax.axvspan(120,168, color='lightpink', alpha=0.3) # tres visible sur canal saint denis\n",
    "            \n",
    "fig.suptitle(\"Disponibilité des Velibs en fonction du temps\")    \n",
    "plt.tight_layout()\n",
    "plt.show()"
   ]
  },
  {
   "cell_type": "code",
   "execution_count": null,
   "id": "12645fd2",
   "metadata": {
    "tags": []
   },
   "outputs": [],
   "source": [
    "plt.figure(figsize = (20,6))\n",
    "\n",
    "bp = plt.boxplot(loading_data, widths = 0.75, patch_artist = True)\n",
    "\n",
    "for box in bp['boxes']:\n",
    "    box.set_alpha(0.8)\n",
    "\n",
    "for i,box in enumerate(bp['boxes']):\n",
    "    box.set_alpha(0.5)\n",
    "    if i//24 ==0:\n",
    "        box.set_color('#FF0000')\n",
    "    elif i//24 ==1:\n",
    "        box.set_color('#FFA500')\n",
    "    elif i//24 ==2:\n",
    "        box.set_color('#FFFF00')\n",
    "    elif i//24 ==3:\n",
    "        box.set_color('#00FF00')\n",
    "    elif i//24 ==4:\n",
    "        box.set_color('#0000FF')\n",
    "    elif i//24 ==5:\n",
    "        box.set_color('#4B0082')\n",
    "    else:\n",
    "        box.set_color('#800080')\n",
    "    \n",
    "for median in bp['medians']:\n",
    "    median.set(color = \"black\", linewidth=5)\n",
    "    \n",
    "\n",
    "plt.xlabel('Heures', fontsize = 20)\n",
    "plt.ylabel('Remplissage', fontsize = 20)\n",
    "plt.title(\"Boxplots\", fontsize = 25)\n",
    "plt.xticks(ticks = np.arange(0, 168, 5), labels=np.arange(0, 168, 5), fontsize = 15)\n",
    "plt.yticks(fontsize = 15)\n",
    "\n",
    "plt.tight_layout()\n",
    "plt.show()"
   ]
  },
  {
   "cell_type": "markdown",
   "id": "10578bee-ba27-424c-bac8-b9b8dfee1517",
   "metadata": {},
   "source": [
    "## I.3 - Comportement moyen du remplissage"
   ]
  },
  {
   "cell_type": "code",
   "execution_count": null,
   "id": "48b2b7b8",
   "metadata": {
    "tags": []
   },
   "outputs": [],
   "source": [
    "print('--- Average fill rate ---')\n",
    "print(loading.mean().mean())\n",
    "\n",
    "print('')\n",
    "\n",
    "loading_mean = pd.Series(loading.mean(axis=1))\n",
    "\n",
    "print('--- Least crowded station, on average ---')\n",
    "i = loading_mean.idxmin()\n",
    "print('Average fill rate :',loading_mean[i])\n",
    "print(coord.loc[i])\n",
    "\n",
    "print('')\n",
    "\n",
    "print('--- Fullest station, on average ---')\n",
    "i = pd.Series(loading.mean(axis=1)).idxmax()\n",
    "print('Average fill rate :',loading.mean(axis=1)[i])\n",
    "print(coord.loc[i])"
   ]
  },
  {
   "cell_type": "code",
   "execution_count": null,
   "id": "c639a3f4-1398-4489-af8e-d337a2e0e7c5",
   "metadata": {
    "tags": []
   },
   "outputs": [],
   "source": [
    "n_stations = loading.shape[0]  # number of observed stations\n",
    "stations   = np.arange(n_stations)\n",
    "\n",
    "plt.figure(figsize = (20,6))\n",
    "\n",
    "plt.plot(loading_mean)\n",
    "plt.hlines(y = loading.mean().mean(), xmin=0, xmax=n_stations, \n",
    "           colors = \"OrangeRed\", linewidth = 3)\n",
    "\n",
    "plt.xlabel('Stations', fontsize = 20)\n",
    "plt.ylabel('Remplissage moyen', fontsize = 20)\n",
    "plt.title('Remplissage moyen par station', fontsize = 25)\n",
    "plt.xticks(fontsize = 15)\n",
    "plt.yticks(fontsize = 15)\n",
    "plt.tight_layout()\n",
    "plt.show()"
   ]
  },
  {
   "cell_type": "code",
   "execution_count": null,
   "id": "042f9fc9",
   "metadata": {
    "tags": []
   },
   "outputs": [],
   "source": [
    "mean_per_hour_per_day = loading.mean(axis = 0).to_numpy()\n",
    "mean_per_hour_per_day = mean_per_hour_per_day.reshape((7, 24))\n",
    "\n",
    "mean_per_hour = mean_per_hour_per_day.mean(axis=0)\n",
    "\n",
    "days = [\"Lundi\", \"Mardi\", \"Mercredi\",\"Jeudi\", \"Vendredi\", \"Samedi\", \"Dimanche\"]\n",
    "plt.figure(figsize = (15,10))\n",
    "\n",
    "plt.plot(np.arange(1,25), mean_per_hour_per_day.transpose())\n",
    "plt.plot(np.arange(1,25), mean_per_hour, color = \"black\", linewidth = 3)\n",
    "\n",
    "plt.xlabel('Heures', fontsize = 20)\n",
    "plt.ylabel('Remplissage', fontsize = 20)\n",
    "plt.legend(days + ['Semaine'])\n",
    "plt.xticks(ticks = np.arange(1,25), labels=np.arange(1,25), fontsize = 15)\n",
    "  \n",
    "plt.tight_layout\n",
    "plt.show()"
   ]
  },
  {
   "cell_type": "markdown",
   "id": "b16b1dda-129b-423a-b02d-848d62f2e81c",
   "metadata": {},
   "source": [
    "## I.4 - Répartition spatiale des stations"
   ]
  },
  {
   "cell_type": "code",
   "execution_count": null,
   "id": "ff9a63a2-3119-4b84-9596-1e894833b6d4",
   "metadata": {
    "tags": []
   },
   "outputs": [],
   "source": [
    "hours = [6, 12, 23]\n",
    "s, n = 10, len(hours)\n",
    "fig, axs = plt.subplots(1, n, figsize = (s*n, s))\n",
    "\n",
    "for (i,h) in enumerate(hours):\n",
    "    im = axs[i].scatter(coord.latitude, coord.longitude, c = loading_data[:,h], cmap = cm.plasma_r)\n",
    "    axs[i].set_title('Remplissage des stations - Lundi {} h'.format(h), fontsize = 25)\n",
    "    plt.colorbar(im, ax=axs[i])\n",
    "        \n",
    "for ax in axs.flat:\n",
    "    ax.set_xlabel('Latitude', fontsize = 20)\n",
    "    ax.set_ylabel('Longitude', fontsize = 20)\n",
    "    ax.tick_params(axis='x', labelsize=15)\n",
    "    ax.tick_params(axis='y', labelsize=15)\n",
    "\n",
    "plt.tight_layout()\n",
    "plt.show()"
   ]
  },
  {
   "cell_type": "code",
   "execution_count": null,
   "id": "14c2e31a-fbb8-44b2-bfca-174c3e24c573",
   "metadata": {
    "tags": []
   },
   "outputs": [],
   "source": [
    "hours = [9, 10, 11]\n",
    "s, n = 10, len(hours)\n",
    "fig, axs = plt.subplots(1, n, figsize = (s*n, s))\n",
    "\n",
    "for (i,h) in enumerate(hours):\n",
    "    im = axs[i].scatter(coord.latitude, coord.longitude, c = loading_data[:,h], cmap = cm.plasma_r)\n",
    "    axs[i].set_title('Remplissage des stations - Lundi {} h'.format(h), fontsize = 25)\n",
    "    plt.colorbar(im, ax=axs[i])\n",
    "        \n",
    "for ax in axs.flat:\n",
    "    ax.set_xlabel('Latitude', fontsize = 20)\n",
    "    ax.set_ylabel('Longitude', fontsize = 20)\n",
    "    ax.tick_params(axis='x', labelsize=15)\n",
    "    ax.tick_params(axis='y', labelsize=15)\n",
    "\n",
    "plt.tight_layout()\n",
    "plt.show()\n",
    "\n",
    "hours = [19, 20, 21]\n",
    "s, n = 10, len(hours)\n",
    "fig, axs = plt.subplots(1, n, figsize = (s*n, s))\n",
    "\n",
    "for (i,h) in enumerate(hours):\n",
    "    im = axs[i].scatter(coord.latitude, coord.longitude, c = loading_data[:,h], cmap = cm.plasma_r)\n",
    "    axs[i].set_title('Remplissage des stations - Lundi {} h'.format(h), fontsize = 25)\n",
    "    plt.colorbar(im, ax=axs[i])\n",
    "        \n",
    "for ax in axs.flat:\n",
    "    ax.set_xlabel('Latitude', fontsize = 20)\n",
    "    ax.set_ylabel('Longitude', fontsize = 20)\n",
    "    ax.tick_params(axis='x', labelsize=15)\n",
    "    ax.tick_params(axis='y', labelsize=15)\n",
    "\n",
    "plt.tight_layout()\n",
    "plt.show()"
   ]
  },
  {
   "cell_type": "code",
   "execution_count": null,
   "id": "93216fa4-dcc6-42b4-b300-dcf40215291d",
   "metadata": {
    "tags": []
   },
   "outputs": [],
   "source": [
    "h = 10\n",
    "hours = np.arange(h, 168, 24)\n",
    "\n",
    "load_per_hour = loading_data[:, hours]\n",
    "\n",
    "days = [\"Lundi\", \"Mardi\", \"Mercredi\",\"Jeudi\", \"Vendredi\", \"Samedi\", \"Dimanche\"]\n",
    "\n",
    "s, m = 10, 3\n",
    "k = 1 + len(days)//m\n",
    "\n",
    "fig = plt.figure(figsize=(s*m, s*m))\n",
    "\n",
    "for (i,d) in enumerate(days):\n",
    "    ax = fig.add_subplot(k, m, i+1)\n",
    "    im = ax.scatter(coord.latitude, coord.longitude, c = load_per_hour[:,i], cmap = cm.plasma_r)\n",
    "    plt.colorbar(im)\n",
    "    \n",
    "    ax.set_title('Remplissage des stations - ' + d + ' {} h'.format(h), fontsize = 25)\n",
    "    ax.set_xlabel('Latitude', fontsize = 20)\n",
    "    ax.set_ylabel('Longitude', fontsize = 20)\n",
    "    ax.tick_params(axis='x', labelsize=15)\n",
    "    ax.tick_params(axis='y', labelsize=15)\n",
    "\n",
    "plt.tight_layout()\n",
    "plt.show()"
   ]
  },
  {
   "cell_type": "code",
   "execution_count": null,
   "id": "1b11ab7d",
   "metadata": {
    "tags": []
   },
   "outputs": [],
   "source": [
    "# Ne pas mettre Sunday 24h\n",
    "\n",
    "hours = np.arange(0, 24)\n",
    "days = [\"Lundi\", \"Mardi\", \"Mercredi\",\"Jeudi\", \"Vendredi\", \"Samedi\", \"Dimanche\"]\n",
    "s, n = 10, len(hours)\n",
    "\n",
    "def plot_hour_day(hour, day):\n",
    "    fig, ax = plt.subplots(figsize=(s, s))\n",
    "    im = ax.scatter(coord.longitude, coord.latitude, c=loading_data[:, hour + 24*(days.index(day))], cmap=cm.plasma_r)\n",
    "    ax.set_title('Remplissage des stations - {} {} h'.format(day, hour), fontsize=25)\n",
    "    ax.set_xlabel('Longitude', fontsize=20)\n",
    "    ax.set_ylabel('Latitude', fontsize=20)\n",
    "    ax.tick_params(axis='both', labelsize=15)\n",
    "    plt.colorbar(im, ax=ax)\n",
    "    plt.show()\n",
    "\n",
    "interact(plot_hour_day, hour=IntSlider(min=1, max=24, step=1, value=1), day=Dropdown(options=days, value='Lundi', description='Day:'))"
   ]
  },
  {
   "cell_type": "code",
   "execution_count": null,
   "id": "aae27d51-4312-4718-a458-0e914b7b7269",
   "metadata": {
    "tags": []
   },
   "outputs": [],
   "source": [
    "h = 8\n",
    "hours = np.arange(h, 168, 24)\n",
    "load_per_hour = loading_data[:, hours].mean(axis=1)\n",
    "\n",
    "fig = px.scatter_mapbox(coord, lat = 'latitude', lon = 'longitude', \n",
    "                        mapbox_style = \"carto-positron\",\n",
    "                        color = load_per_hour, color_continuous_scale = px.colors.sequential.Plasma_r, #size = load_per_hour,\n",
    "                        zoom  = 10, opacity = .9,\n",
    "                        title = 'Stations loading - Weekly average at {} h'.format(h))\n",
    "\n",
    "fig.show()"
   ]
  },
  {
   "cell_type": "code",
   "execution_count": null,
   "id": "02e71d1a-5531-4bd0-ac73-accff8a87661",
   "metadata": {
    "tags": []
   },
   "outputs": [],
   "source": [
    "h = 18\n",
    "hours = np.arange(h, 168, 24)\n",
    "load_per_hour = loading_data[:, hours].mean(axis=1)\n",
    "\n",
    "fig = px.scatter_mapbox(coord, lat = 'latitude', lon = 'longitude', \n",
    "                        mapbox_style = \"carto-positron\",\n",
    "                        color = load_per_hour, color_continuous_scale = px.colors.sequential.Plasma_r, #size = load_per_hour,\n",
    "                        zoom  = 10, opacity = .9,\n",
    "                        title = 'Stations loading - Weekly average at {} h'.format(h))\n",
    "\n",
    "fig.show()"
   ]
  },
  {
   "cell_type": "code",
   "execution_count": null,
   "id": "6acf8241-1545-4e99-9f57-fbdb6bcf8f3c",
   "metadata": {
    "tags": []
   },
   "outputs": [],
   "source": [
    "load_per_hour = loading_data[:, :].mean(axis=1)\n",
    "\n",
    "fig = px.scatter_mapbox(coord, lat = 'latitude', lon = 'longitude', \n",
    "                        mapbox_style = \"carto-positron\",\n",
    "                        color = load_per_hour, color_continuous_scale = px.colors.sequential.Plasma_r, #size = load_per_hour,\n",
    "                        zoom  = 10, opacity = .9,\n",
    "                        title = 'Average stations loading')\n",
    "\n",
    "fig.show()"
   ]
  },
  {
   "cell_type": "markdown",
   "id": "2b5f2141",
   "metadata": {},
   "source": [
    "## I.5 - Analyse d'individus spécifiques : le cas particulier de stations situés sur des collines"
   ]
  },
  {
   "cell_type": "code",
   "execution_count": null,
   "id": "b899a8a1-15d9-4df2-86be-dca09d303424",
   "metadata": {
    "tags": []
   },
   "outputs": [],
   "source": [
    "nb_pente = sum(coord['bonus'] == 1)\n",
    "\n",
    "no_hill = sum(coord['bonus'] == 0)\n",
    "\n",
    "print(nb_pente)\n",
    "\n",
    "print(\"Proportion des stations situées en altitude:\")\n",
    "\n",
    "print(nb_pente / (nb_pente + no_hill))"
   ]
  },
  {
   "cell_type": "code",
   "execution_count": null,
   "id": "65070230",
   "metadata": {
    "tags": []
   },
   "outputs": [],
   "source": [
    "coord['hill'] = coord['bonus'].astype('category') # convert to categorical\n",
    "\n",
    "fig = px.scatter_mapbox(coord, lat = 'latitude', lon = 'longitude',\n",
    "mapbox_style = \"carto-positron\",\n",
    "color = 'hill',\n",
    "color_discrete_map = {0:'midnightblue', 1:'plum'},\n",
    "labels = {0: \"not hill\", 1: \"hill\"},\n",
    "zoom = 10, opacity = .9,\n",
    "title = 'Stations situées en altitude (hill)')\n",
    "\n",
    "fig.show()"
   ]
  },
  {
   "cell_type": "code",
   "execution_count": null,
   "id": "7cac281e",
   "metadata": {
    "tags": []
   },
   "outputs": [],
   "source": [
    "coord_data = coord.to_numpy()\n",
    "index_hill = []\n",
    "for i in range(len(coord_data)):\n",
    "    if coord_data[i][-3] == 1:\n",
    "        index_hill.append(i)\n",
    "index_hill = np.array(index_hill)\n",
    "\n",
    "index_not_hill = []\n",
    "for i in range(len(coord_data)):\n",
    "    if coord_data[i][-3] == 0:\n",
    "        index_not_hill.append(i)\n",
    "index_not_hill = np.array(index_not_hill)\n",
    "\n",
    "loading_hill = loading_data[index_hill]\n",
    "\n",
    "loading_hill_mean = pd.Series(loading_hill.mean(axis=1))\n",
    "\n",
    "n_stations = loading.shape[0] \n",
    "stations = np.arange(n_stations)\n",
    "\n",
    "plt.figure(figsize = (20,6))\n",
    "\n",
    "\n",
    "plt.plot(loading_mean)\n",
    "plt.hlines(y = loading.mean().mean(), xmin=0, xmax=n_stations,\n",
    "colors = \"OrangeRed\", linewidth = 3)\n",
    "\n",
    "plt.plot(index_hill,loading_hill_mean, color = 'purple', linewidth = 3)\n",
    "plt.hlines(y = loading_hill_mean.mean().mean(), xmin=0, xmax=n_stations,\n",
    "colors = \"r\", linewidth = 3, linestyles = '--')\n",
    "\n",
    "plt.xlabel('Stations', fontsize = 20)\n",
    "plt.ylabel('Remplissage', fontsize = 20)\n",
    "plt.title(\"Moyenne du remplissage par station sur les collines comparé au remplissage moyen\", fontsize = 25)\n",
    "plt.xticks(fontsize = 15)\n",
    "plt.yticks(fontsize = 15)\n",
    "\n",
    "plt.tight_layout()\n",
    "plt.show()\n",
    "\n",
    "print(loading_hill_mean.mean().mean())"
   ]
  },
  {
   "cell_type": "markdown",
   "id": "df1059eb-be67-408f-9cc9-fa9418df668a",
   "metadata": {},
   "source": [
    "# II - Analyse en Composantes Principales (ACP)"
   ]
  },
  {
   "cell_type": "code",
   "execution_count": null,
   "id": "0903af2a-e835-4c99-975f-f99a66c30831",
   "metadata": {
    "tags": []
   },
   "outputs": [],
   "source": [
    "ss = StandardScaler()\n",
    "loading_scaled = ss.fit_transform(loading)\n",
    "pca = PCA()\n",
    "loading_pca = pca.fit_transform(loading_scaled)"
   ]
  },
  {
   "cell_type": "code",
   "execution_count": null,
   "id": "7c0bc000-2161-4a55-89e1-187126c351c2",
   "metadata": {
    "tags": []
   },
   "outputs": [],
   "source": [
    "plt.figure(figsize = (10, 5))\n",
    "explained_variance_ratio = 100*pca.explained_variance_ratio_\n",
    "\n",
    "plt.subplot(1,2,1)\n",
    "n_bars = 20\n",
    "plt.bar(np.arange(1, n_bars+1), explained_variance_ratio[:n_bars], color='blue')\n",
    "plt.xlabel(\"Nombre de composantes\")\n",
    "plt.ylabel(\"Percentage of explained variance\")\n",
    "plt.xlim(0, 10)\n",
    "\n",
    "plt.subplot(1,2,2)\n",
    "# Tracé du graphe de l'inertie des composantes principales\n",
    "plt.plot(range(1,9), pca.explained_variance_ratio_[:8], marker='o', linestyle='--')\n",
    "#plt.title('Variance expliquée par composante')\n",
    "plt.xlabel('Composante principale')\n",
    "plt.ylabel(u'Ratio de variance expliquée')\n",
    "plt.xticks(range(1, 10))\n",
    "plt.grid(True)\n",
    "plt.show()\n",
    "print(\"Pourcentage de l'inertie expliquée par les 3 premières composantes:\", round(sum([explained_variance_ratio[i] for i in range(3)]),2))"
   ]
  },
  {
   "cell_type": "code",
   "execution_count": null,
   "id": "a434932c-e7ea-4cc1-8cd0-39b9ac751a72",
   "metadata": {
    "tags": []
   },
   "outputs": [],
   "source": [
    "plt.boxplot(loading_pca[:,0:10])\n",
    "plt.tight_layout()\n",
    "plt.title(\"Boxplot des composantes principales\")\n",
    "plt.show()\n",
    "print(\"Pourcentage de l'inertie expliquée par les 5 premières composantes:\", round(sum([explained_variance_ratio[i] for i in range(5)]),2))"
   ]
  },
  {
   "cell_type": "code",
   "execution_count": null,
   "id": "f3b49921",
   "metadata": {
    "tags": []
   },
   "outputs": [],
   "source": [
    "fig = plt.figure(figsize=(20,7))\n",
    "plt.title(\"Graphe des variables sur 3 plans factoriels\")\n",
    "coord1=pca.components_[0]*np.sqrt(pca.explained_variance_[0])\n",
    "coord2=pca.components_[1]*np.sqrt(pca.explained_variance_[1])\n",
    "\n",
    "ax = fig.add_subplot(1, 3, 1)\n",
    "for i, j, nom in zip(coord1,coord2, loading.columns):\n",
    "    plt.text(i, j, nom, fontsize = 5)\n",
    "    plt.arrow(0,0,i,j,color='black')\n",
    "plt.axis((-1.2,1.2,-1.2,1.2))\n",
    "\n",
    "c=plt.Circle((0,0), radius=1, color='gray', fill=False)\n",
    "plt.xlabel('Composante Principale 1')\n",
    "plt.ylabel('Composante Principale 2')\n",
    "ax.add_patch(c)\n",
    "\n",
    "coord1=pca.components_[0]*np.sqrt(pca.explained_variance_[0])\n",
    "coord3=pca.components_[2]*np.sqrt(pca.explained_variance_[2])\n",
    "\n",
    "ax = fig.add_subplot(1, 3, 2)\n",
    "for i, j, nom in zip(coord1,coord3, loading.columns):\n",
    "    plt.text(i, j, nom, fontsize = 5)\n",
    "    plt.arrow(0,0,i,j,color='black')\n",
    "plt.axis((-1.2,1.2,-1.2,1.2))\n",
    "\n",
    "c=plt.Circle((0,0), radius=1, color='gray', fill=False)\n",
    "plt.xlabel('Composante Principale 1')\n",
    "plt.ylabel('Composante Principale 3')\n",
    "ax.add_patch(c)\n",
    "\n",
    "coord2=pca.components_[1]*np.sqrt(pca.explained_variance_[1])\n",
    "coord4=pca.components_[3]*np.sqrt(pca.explained_variance_[3])\n",
    "\n",
    "ax = fig.add_subplot(1, 3, 3)\n",
    "for i, j, nom in zip(coord2,coord3, loading.columns):\n",
    "    plt.text(i, j, nom, fontsize = 5)\n",
    "    plt.arrow(0,0,i,j,color='black')\n",
    "plt.axis((-1.2,1.2,-1.2,1.2))\n",
    "\n",
    "c=plt.Circle((0,0), radius=1, color='gray', fill=False)\n",
    "plt.xlabel('Composante Principale 2')\n",
    "plt.ylabel('Composante Principale 4')\n",
    "ax.add_patch(c)\n",
    "plt.show()"
   ]
  },
  {
   "cell_type": "code",
   "execution_count": null,
   "id": "396cca5b",
   "metadata": {
    "tags": []
   },
   "outputs": [],
   "source": [
    "plt.figure(figsize=(5,4))\n",
    "time_tick = [1 + 24 * i for i in range(7)]  # Vecteur délimitant les jours\n",
    "i=0\n",
    "plt.plot(pca.components_[i,:-1]*np.sqrt(pca.explained_variance_[i]))\n",
    "plt.xlabel(u\"variables\")\n",
    "plt.ylabel(u\"Corrélation avec dim \" + str(i + 1))\n",
    "plt.ylim(-1, 1)\n",
    "plt.axhline(0, color='green')\n",
    "for tick in time_tick:\n",
    "    plt.axvline(tick, color='orange')\n",
    "plt.title(\"Corrélation des variables avec la première dimension\")\n",
    "plt.show()\n"
   ]
  },
  {
   "cell_type": "code",
   "execution_count": null,
   "id": "73edf63d",
   "metadata": {
    "tags": []
   },
   "outputs": [],
   "source": [
    "def group_variable_labels(variable_names, group_size):\n",
    "    labels = []\n",
    "    for i in range(0, len(variable_names), group_size):\n",
    "        group_labels = ', '.join(variable_names[i:i+group_size])\n",
    "        labels.append(group_labels)\n",
    "    return labels\n",
    "def group_variable_colors(variable_names):\n",
    "    colors = sns.color_palette(\"husl\", n_colors=24)\n",
    "    groups = [i % 24 for i in range(len(variable_names))]\n",
    "    group_colors = {group: color for group, color in zip(set(groups), colors)}\n",
    "    return [group_colors[group] for group in groups], group_colors\n",
    "\n",
    "fig = plt.figure(figsize=(15, 4))\n",
    "ax = fig.add_subplot(1, 3, 3)\n",
    "\n",
    "colors, group_colors = group_variable_colors(loading.columns)\n",
    "for i, (x, y) in enumerate(zip(coord1, coord2)):\n",
    "    ax.scatter(x, y, color=colors[i], edgecolor='black', linewidth=1, s=100)\n",
    "\n",
    "legend_handles = [plt.Line2D([0], [0], marker='o', color='w', markerfacecolor=color, markeredgecolor='black', markersize=10, label=f'Heure {group}') for group, color in group_colors.items()]\n",
    "plt.legend(handles=legend_handles, title='Groupes', loc='center left',ncol=2, bbox_to_anchor=(1, 0.5))\n",
    "\n",
    "c = plt.Circle((0, 0), radius=1, color='gray', fill=False)\n",
    "ax.add_patch(c)\n",
    "\n",
    "plt.xlim(-1.2, 1.2)\n",
    "plt.ylim(-1.2, 1.2)\n",
    "\n",
    "plt.axhline(0, color='grey', linewidth=0.5)\n",
    "plt.axvline(0, color='grey', linewidth=0.5)\n",
    "\n",
    "plt.xlabel('Dimension 1')\n",
    "plt.ylabel(' Dimension 2')\n",
    "\n",
    "ax2 = fig.add_subplot(1, 3, 1)\n",
    "time_tick = [1 + 24 * i for i in range(7)]\n",
    "i=1\n",
    "plt.plot(pca.components_[i,:-1]*np.sqrt(pca.explained_variance_[i]))\n",
    "plt.xlabel(u\"variables\")\n",
    "plt.ylabel(u\"Corrélation avec dim \" + str(i + 1))\n",
    "plt.ylim(-1, 1)\n",
    "plt.axhline(0, color='green')\n",
    "for tick in time_tick:\n",
    "    plt.axvline(tick, color='orange')\n",
    "\n",
    "plt.grid(True)\n",
    "plt.tight_layout()\n",
    "plt.show()"
   ]
  },
  {
   "cell_type": "code",
   "execution_count": null,
   "id": "b970e7b9",
   "metadata": {
    "tags": []
   },
   "outputs": [],
   "source": [
    "plt.subplot(1,2,2)\n",
    "vacances_indices = set(range(120, 169)).union(set(filter(lambda x: x % 24 in range(19, 24), range(len(loading.columns)))))\n",
    "\n",
    "vacances_color = 'red'\n",
    "rest_color = 'green'\n",
    "\n",
    "for i, (x, y) in enumerate(zip(coord1, coord3)):\n",
    "    color = vacances_color if i in vacances_indices else rest_color\n",
    "    plt.scatter(x, y, color=color, edgecolor='black', linewidth=1, s=100)\n",
    "\n",
    "circle = plt.Circle((0, 0), radius=1, color='gray', fill=False)\n",
    "plt.gca().add_artist(circle)\n",
    "\n",
    "plt.xlim(-1.2, 1.2)\n",
    "plt.ylim(-1.2, 1.2)\n",
    "\n",
    "plt.axhline(0, color='grey', linewidth=0.5)\n",
    "plt.axvline(0, color='grey', linewidth=0.5)\n",
    "\n",
    "plt.xlabel('Composante 1')\n",
    "plt.ylabel('Composante 3')\n",
    "plt.grid(True)\n",
    "\n",
    "plt.legend(handles=[plt.scatter([], [], color='red', label='Pas d\\'activité professionnelle'),\n",
    "plt.scatter([], [], color='green', label='Activité professionnelle')], title='')\n",
    "plt.subplot(1,2,1)\n",
    "time_tick = [1 + 24 * i for i in range(7)]\n",
    "i=2\n",
    "plt.plot(pca.components_[i,:-1]*np.sqrt(pca.explained_variance_[i]))\n",
    "plt.xlabel(u\"variables\")\n",
    "plt.ylabel(u\"Corrélation avec dim \" + str(i + 1))\n",
    "plt.ylim(-1, 1)\n",
    "plt.axhline(0, color='green')\n",
    "for tick in time_tick:\n",
    "    plt.axvline(tick, color='orange')\n",
    "\n",
    "plt.grid(True)\n",
    "plt.tight_layout()\n",
    "plt.show()"
   ]
  },
  {
   "cell_type": "code",
   "execution_count": null,
   "id": "8c5e7ae9",
   "metadata": {
    "tags": []
   },
   "outputs": [],
   "source": [
    "loading_with_hill = pd.concat([loading, coord.iloc[:, 2]], axis=1)\n",
    "ss = StandardScaler()\n",
    "loading_with_hill_scaled = ss.fit_transform(loading_with_hill)\n",
    "pca = PCA()\n",
    "loading_with_hill_pca = pca.fit_transform(loading_with_hill_scaled)\n",
    "\n",
    "loading_with_hill_pca_df = pd.DataFrame(loading_with_hill_pca[:, :2], columns=['Dim1', 'Dim2'])\n",
    "\n",
    "palette = plt.get_cmap(\"Dark2\")\n",
    "fig = plt.figure()\n",
    "c = loading_with_hill[\"bonus\"]\n",
    "sc = plt.scatter(x='Dim1', y='Dim2', c=c, data=loading_with_hill_pca_df, s=10, cmap = \"viridis\")\n",
    "plt.xlabel('Composante 1')\n",
    "plt.ylabel('Composante 2')\n",
    "plt.title('Graphe des individus selon la valeur de la variable \"bonus\"')\n",
    "legend = plt.legend(*sc.legend_elements(), title = \"Colline\", loc = \"upper right\")\n",
    "fig.add_artist(legend)\n",
    "\n",
    "plt.show()"
   ]
  },
  {
   "cell_type": "markdown",
   "id": "0d8de4b9-36d0-4518-85b4-f7c2bcd2f84f",
   "metadata": {},
   "source": [
    "# III - Clustering"
   ]
  },
  {
   "cell_type": "markdown",
   "id": "53474ed4",
   "metadata": {},
   "source": [
    "## III.1 - K-Means appliquée aux données sans ACP préalable"
   ]
  },
  {
   "cell_type": "code",
   "execution_count": null,
   "id": "737e15f7",
   "metadata": {
    "tags": []
   },
   "outputs": [],
   "source": [
    "plt.figure(figsize = (5, 5))\n",
    "\n",
    "k_max = 15\n",
    "\n",
    "silhouette = []\n",
    "for k in range(2, k_max):\n",
    "    kmeans = KMeans(n_clusters=k, init='k-means++', n_init='auto')\n",
    "    clusters_kmeans = kmeans.fit_predict(loading_scaled)\n",
    "    silhouette.append( silhouette_score(loading_scaled, clusters_kmeans, metric='euclidean') )\n",
    "silhouette = np.array(silhouette)\n",
    "plt.scatter(1,0, color=\"blue\")\n",
    "plt.scatter(range(2, k_max), silhouette, color=\"blue\")\n",
    "plt.show()\n",
    "plt.figure(figsize = (15, 5))\n",
    "\n",
    "plt.subplot(1,2,1)\n",
    "model = KMeans(init='k-means++', n_init='auto')\n",
    "visualizer = KElbowVisualizer(model,k=(1,15))\n",
    "visualizer.fit(loading_scaled)        \n",
    "\n",
    "\n",
    "plt.subplot(1,2,2)\n",
    "model = KMeans(init='k-means++', n_init='auto')\n",
    "visualizer = KElbowVisualizer(model,k=(3,15))\n",
    "\n",
    "visualizer.fit(loading_scaled)\n",
    "visualizer.show() "
   ]
  },
  {
   "cell_type": "markdown",
   "id": "b84eb8de",
   "metadata": {},
   "source": [
    "### Pour K = 2"
   ]
  },
  {
   "cell_type": "code",
   "execution_count": null,
   "id": "f80b59b8-57a1-4922-af67-775bc35219af",
   "metadata": {
    "tags": []
   },
   "outputs": [],
   "source": [
    "k=2\n",
    "reskmeans = KMeans(n_clusters=k,init='k-means++', n_init='auto', random_state=0)\n",
    "C=reskmeans.fit_predict(loading)\n",
    "\n",
    "cmap = plt.get_cmap('Dark2',k)\n",
    "plt.scatter(loading_pca[:, 0], loading_pca[:, 1], s=2, c = C,linewidths=3, alpha=1, cmap=cmap)\n",
    "plt.title(\"Graphe des Individus - PCA\")\n",
    "plt.xlabel('Composante Principale 1')\n",
    "plt.ylabel('Composante Principale 2')"
   ]
  },
  {
   "cell_type": "code",
   "execution_count": null,
   "id": "a8acb0d2",
   "metadata": {
    "tags": []
   },
   "outputs": [],
   "source": [
    "ConfusionMatrixDisplay(confusion_matrix(C, coord['bonus'])).plot()\n",
    "plt.ylabel('Classe prédite')\n",
    "plt.xlabel('Variable Bonus')\n",
    "plt.title('Matrice de confusion entre KMeans et Bonus')\n",
    "plt.show()"
   ]
  },
  {
   "cell_type": "code",
   "execution_count": null,
   "id": "436ae098-32ba-4c34-bffb-4332e4d9c858",
   "metadata": {
    "tags": []
   },
   "outputs": [],
   "source": [
    "barycentres = reskmeans.cluster_centers_\n",
    "ig, axs = plt.subplots(1, 2, figsize = (10,5))\n",
    "\n",
    "for i in range(2):\n",
    "        station = barycentres[i]\n",
    "        axs[i].plot(time_range, station, linewidth = 1, color = 'purple')\n",
    "        axs[i].vlines(x = time_tick, ymin = 0, ymax = 1, colors = \"orange\", linestyle = \"dotted\", linewidth = 3)\n",
    "        axs[i].set_title('barycentre du cluster'+ str(i+1), fontsize = 12)\n",
    "\n",
    "for ax in axs.flat:\n",
    "    ax.set_xlabel('Heures', fontsize = 12)\n",
    "    ax.set_ylabel('Remplissage', fontsize = 12)\n",
    "    ax.tick_params(axis='x', labelsize=10)\n",
    "    ax.tick_params(axis='y', labelsize=10)\n",
    "    \n",
    "plt.tight_layout()\n",
    "plt.show()"
   ]
  },
  {
   "cell_type": "code",
   "execution_count": null,
   "id": "ff2a641a-f4c9-4785-a2b1-9b1d114f94ce",
   "metadata": {},
   "outputs": [],
   "source": [
    "for i in range(2):\n",
    "    Cluster = np.where(reskmeans.labels_ == i)[0]\n",
    "    timeTick = 1 + 24 * np.arange(0, 7)\n",
    "    plt.figure()\n",
    "    plt.boxplot(loading.iloc[Cluster, :], patch_artist=True, boxprops=dict(facecolor='blue'),flierprops = dict(marker='.', markersize=3))\n",
    "    plt.title(str(i))\n",
    "    plt.xticks(ticks=np.arange(1, 168, 9), labels=np.arange(1, 168, 9))\n",
    "    for tick in timeTick:\n",
    "        plt.axvline(x=tick, color='orange', linestyle='dashed', linewidth=2)\n",
    "    plt.show()"
   ]
  },
  {
   "cell_type": "markdown",
   "id": "402ba756",
   "metadata": {},
   "source": [
    "### Pour K = 4"
   ]
  },
  {
   "cell_type": "code",
   "execution_count": null,
   "id": "0943207f-52af-4659-a4e7-d07e6ad361b1",
   "metadata": {
    "tags": []
   },
   "outputs": [],
   "source": [
    "k=4\n",
    "reskmeans2 = KMeans(n_clusters=k,init='k-means++', n_init='auto', random_state=0)\n",
    "C=reskmeans2.fit_predict(loading)\n",
    "cmap = plt.get_cmap('Dark2',k)\n",
    "plt.scatter(loading_pca[:, 0], loading_pca[:, 1], s=2, c = C,linewidths=3, alpha=1, cmap=cmap)\n",
    "plt.title(\"Graphe des Individus - PCA\")\n",
    "plt.xlabel('Composante Principale 1')\n",
    "plt.ylabel('Composante Principale 2')"
   ]
  },
  {
   "cell_type": "code",
   "execution_count": null,
   "id": "c8c12d31",
   "metadata": {
    "tags": []
   },
   "outputs": [],
   "source": [
    "barycentres = reskmeans2.cluster_centers_\n",
    "fig, axs = plt.subplots(2, 2, figsize = (10,5))\n",
    "count=0\n",
    "for i in range(2):\n",
    "    for j in range(2):\n",
    "        station = barycentres[count]\n",
    "        axs[i,j].plot(time_range, station, linewidth = 1, color = 'purple')\n",
    "        axs[i,j].vlines(x = time_tick, ymin = 0, ymax = 1, colors = \"orange\", linestyle = \"dotted\", linewidth = 3)\n",
    "        axs[i,j].set_title('barycentre du cluster'+ str(count+1), fontsize = 12)\n",
    "        count=count+1\n",
    "for ax in axs.flat:\n",
    "    ax.set_xlabel('Heures', fontsize = 12)\n",
    "    ax.set_ylabel('Remplissage', fontsize = 12)\n",
    "    ax.tick_params(axis='x', labelsize=10)\n",
    "    ax.tick_params(axis='y', labelsize=10)\n",
    "    \n",
    "plt.tight_layout()\n",
    "plt.show()"
   ]
  },
  {
   "cell_type": "code",
   "execution_count": null,
   "id": "873c9e2a-9f16-4298-a08b-20b6724164f1",
   "metadata": {},
   "outputs": [],
   "source": [
    "for i in range(4):\n",
    "    Cluster = np.where(reskmeans2.labels_ == i)[0]\n",
    "    timeTick = 1 + 24 * np.arange(0, 7)\n",
    "    plt.figure()\n",
    "    plt.boxplot(loading.iloc[Cluster, :], patch_artist=True, boxprops=dict(facecolor='blue'),flierprops = dict(marker='.', markersize=3))\n",
    "    plt.title(str(i))\n",
    "    plt.xticks(ticks=np.arange(1, 168, 9), labels=np.arange(1, 168, 9))\n",
    "    for tick in timeTick:\n",
    "        plt.axvline(x=tick, color='orange', linestyle='dashed', linewidth=2)\n",
    "    plt.show()"
   ]
  },
  {
   "cell_type": "code",
   "execution_count": null,
   "id": "70750f06-b404-4ab3-a8d6-32958342f5f9",
   "metadata": {
    "tags": []
   },
   "outputs": [],
   "source": [
    "fig = px.scatter_mapbox(coord, lat = 'latitude', lon = 'longitude', \n",
    "                        mapbox_style = \"carto-positron\",\n",
    "                        color = C,\n",
    "                        zoom  = 10, opacity = .9,\n",
    "                        title = 'Visualisation des clusters sur la carte')\n",
    "fig.show()"
   ]
  },
  {
   "cell_type": "markdown",
   "id": "a6b43964-7317-4a0b-9da7-164b21d0ddb7",
   "metadata": {
    "tags": []
   },
   "source": [
    "### Pour K = 6"
   ]
  },
  {
   "cell_type": "code",
   "execution_count": null,
   "id": "36f0a292-98e5-48c9-9ac5-fdb29c85d79f",
   "metadata": {
    "tags": []
   },
   "outputs": [],
   "source": [
    "k=6\n",
    "reskmeans3 = KMeans(n_clusters=k,init='k-means++', n_init='auto', random_state=0)\n",
    "C=reskmeans3.fit_predict(loading)\n",
    "kmeans6 = C\n",
    "barycentres = reskmeans3.cluster_centers_"
   ]
  },
  {
   "cell_type": "code",
   "execution_count": null,
   "id": "7f9dff47-b03c-4679-b3a0-015a55c05752",
   "metadata": {
    "tags": []
   },
   "outputs": [],
   "source": [
    "plt.subplot(1,2,1)\n",
    "cmap = plt.get_cmap('Dark2',k)\n",
    "plt.scatter(loading_pca[:, 0], loading_pca[:, 1], s=2, c = C,linewidths=3, alpha=1, cmap=cmap)\n",
    "plt.title(\"Graphe des Individus - PCA\")\n",
    "plt.xlabel('Composante Principale 1')\n",
    "plt.ylabel('Composante principale 2')\n",
    "\n",
    "plt.subplot(1,2,2)\n",
    "plt.scatter(loading_pca[:, 0], loading_pca[:, 3], s=2, c = C,linewidths=3, alpha=1, cmap=cmap)\n",
    "plt.title(\"Graphe des Individus - PCA\")\n",
    "plt.xlabel('Composante principale 1')\n",
    "plt.ylabel('Composante principale 4')\n",
    "plt.show()"
   ]
  },
  {
   "cell_type": "code",
   "execution_count": null,
   "id": "e69fe0d6-395d-47c5-911f-9879936f974b",
   "metadata": {
    "tags": []
   },
   "outputs": [],
   "source": [
    "fig, axs = plt.subplots(3, 2, figsize = (10,10))\n",
    "count=0\n",
    "for i in range(3):\n",
    "    for j in range(2):\n",
    "        station = barycentres[count]\n",
    "        axs[i,j].plot(time_range, station, linewidth = 1, color = 'purple')\n",
    "        axs[i,j].vlines(x = time_tick, ymin = 0, ymax = 1, colors = \"orange\", linestyle = \"dotted\", linewidth = 3)\n",
    "        axs[i,j].set_title('barycentre du cluster'+ str(count+1), fontsize = 12)\n",
    "        count=count+1\n",
    "for ax in axs.flat:\n",
    "    ax.set_xlabel('Heures', fontsize = 12)\n",
    "    ax.set_ylabel('Remplissage', fontsize = 12)\n",
    "    ax.tick_params(axis='x', labelsize=10)\n",
    "    ax.tick_params(axis='y', labelsize=10)\n",
    "    \n",
    "plt.tight_layout()\n",
    "plt.show()"
   ]
  },
  {
   "cell_type": "code",
   "execution_count": null,
   "id": "85dfbd6e-2c5d-4238-bb70-1bb49d93bf69",
   "metadata": {},
   "outputs": [],
   "source": [
    "for i in range(6):\n",
    "    Cluster = np.where(reskmeans3.labels_ == i)[0]\n",
    "    timeTick = 1 + 24 * np.arange(0, 7)\n",
    "    plt.figure()\n",
    "    plt.boxplot(loading.iloc[Cluster, :], patch_artist=True, boxprops=dict(facecolor='blue'),flierprops = dict(marker='.', markersize=3))\n",
    "    plt.title(str(i))\n",
    "    plt.xticks(ticks=np.arange(1, 168, 9), labels=np.arange(1, 168, 9))\n",
    "    for tick in timeTick:\n",
    "        plt.axvline(x=tick, color='orange', linestyle='dashed', linewidth=2)\n",
    "    plt.show()"
   ]
  },
  {
   "cell_type": "markdown",
   "id": "474b2bce-3b3a-4e1e-bf9f-65f9ef853a21",
   "metadata": {},
   "source": [
    "## III.2 - Utilsation des données avec transformation ACP"
   ]
  },
  {
   "cell_type": "code",
   "execution_count": null,
   "id": "12aa22a1-f587-45e8-b72e-126a51356401",
   "metadata": {
    "tags": []
   },
   "outputs": [],
   "source": [
    "loading_reduced = loading_pca[:,:5]"
   ]
  },
  {
   "cell_type": "code",
   "execution_count": null,
   "id": "b731128d-7aac-4ee5-b883-d88f4dc7a559",
   "metadata": {
    "tags": []
   },
   "outputs": [],
   "source": [
    "plt.figure(figsize = (5, 5))\n",
    "\n",
    "k_max = 15\n",
    "\n",
    "silhouette = []\n",
    "for k in range(2, k_max):\n",
    "    kmeans = KMeans(n_clusters=k, init='k-means++', n_init='auto')\n",
    "    clusters_kmeans = kmeans.fit_predict(loading_reduced)\n",
    "    silhouette.append( silhouette_score(loading_reduced, clusters_kmeans, metric='euclidean') )\n",
    "silhouette = np.array(silhouette)\n",
    "plt.scatter(1,0, color=\"blue\")\n",
    "plt.scatter(range(2, k_max), silhouette, color=\"blue\")\n",
    "plt.show()\n",
    "plt.figure(figsize = (15, 5))\n",
    "\n",
    "plt.subplot(1,2,1)\n",
    "model = KMeans(init='k-means++', n_init='auto')\n",
    "visualizer = KElbowVisualizer(model,k=(1,15))\n",
    "visualizer.fit(loading_reduced)        \n",
    "\n",
    "plt.subplot(1,2,2)\n",
    "model = KMeans(init='k-means++', n_init='auto')\n",
    "visualizer = KElbowVisualizer(model,k=(3,15))\n",
    "\n",
    "visualizer.fit(loading_reduced)\n",
    "visualizer.show() "
   ]
  },
  {
   "cell_type": "code",
   "execution_count": null,
   "id": "4d8deea7-7b44-4060-a260-a49ae3f2cb0f",
   "metadata": {
    "tags": []
   },
   "outputs": [],
   "source": [
    "k=4\n",
    "\n",
    "reskmeans_pca = KMeans(n_clusters=k,init='k-means++', n_init='auto', random_state=0)\n",
    "C=reskmeans_pca.fit_predict(loading_reduced)\n",
    "plt.subplot(1,2,1)\n",
    "cmap = plt.get_cmap('Dark2',k)\n",
    "plt.scatter(loading_pca[:, 0], loading_pca[:, 1], s=2, c = C,linewidths=3, alpha=1, cmap=cmap)\n",
    "plt.title(\"Graphe des Individus - PCA\")\n",
    "plt.xlabel('Composante Principale 1')\n",
    "plt.ylabel('Composante Principale 2')\n",
    "\n",
    "plt.subplot(1,2,2)\n",
    "plt.scatter(loading_pca[:, 1], loading_pca[:, 4], s=2, c = C,linewidths=3, alpha=1, cmap=cmap)\n",
    "plt.title(\"Graphe des Individus - PCA\")\n",
    "plt.xlabel('Composante Principale 1')\n",
    "plt.ylabel('Composante Principale 3')\n",
    "plt.show()"
   ]
  },
  {
   "cell_type": "code",
   "execution_count": null,
   "id": "51acbb56-a7da-4be8-b85f-af673ef279eb",
   "metadata": {
    "tags": []
   },
   "outputs": [],
   "source": [
    "def set_cluster_loading(clu, clusters):\n",
    "\n",
    "    indices_clu = np.where(clusters == clu)[0]\n",
    "\n",
    "    rd.shuffle(indices_clu)\n",
    "    stations = indices_clu[:9]\n",
    "\n",
    "    loading_data = loading.to_numpy()\n",
    "\n",
    "    n_steps = loading.shape[1]  # number of observed time steps\n",
    "    time_range = np.linspace(1, n_steps, n_steps)  # observed time range\n",
    "    time_tick  = np.linspace(1, n_steps, 8)  # beginning of days\n",
    "\n",
    "\n",
    "    fig, axs = plt.subplots(3, 3, figsize = (15,12))\n",
    "\n",
    "\n",
    "\n",
    "    for i in range(3):\n",
    "        for j in range(3):\n",
    "            k_station = stations[3 * i + j]\n",
    "            axs[i, j].plot(time_range, loading_data[k_station, :], linewidth = 1, color = \"blue\")\n",
    "            axs[i, j].vlines(x = time_tick, ymin = 0, ymax = 1, colors = \"orange\", linestyle = \"dotted\", linewidth = 3)\n",
    "            axs[i, j].set_title(coord.names[1 + k_station], fontsize = 12)\n",
    "\n",
    "\n",
    "    for ax in axs.flat:\n",
    "        ax.set_xlabel('Temps', fontsize = 12)\n",
    "        ax.set_ylabel('Remplissage', fontsize = 12)\n",
    "        ax.tick_params(axis='x', labelsize=10)\n",
    "        ax.tick_params(axis='y', labelsize=10)\n",
    "        ax.axvspan(0,6, color='lightblue', alpha=0.3)\n",
    "        for i in range(n_steps):\n",
    "            if i % 24 == 20:\n",
    "                ax.axvspan(i,i+9, color='lightblue', alpha=0.5)\n",
    "        ax.axvspan(120,168, color='lightpink', alpha=0.3)\n",
    "\n",
    "    fig.suptitle(\"Disponibilité des Velibs en fonction du temps\")    \n",
    "    plt.tight_layout()\n",
    "    plt.show()\n"
   ]
  },
  {
   "cell_type": "code",
   "execution_count": null,
   "id": "d0621104-c9b3-4a17-aa34-334cd9fe7cbe",
   "metadata": {
    "tags": []
   },
   "outputs": [],
   "source": [
    "set_cluster_loading(0, C)"
   ]
  },
  {
   "cell_type": "code",
   "execution_count": null,
   "id": "38ebcb81-b8e9-4a4b-83b8-00cca06720a6",
   "metadata": {
    "tags": []
   },
   "outputs": [],
   "source": [
    "set_cluster_loading(1, C)"
   ]
  },
  {
   "cell_type": "code",
   "execution_count": null,
   "id": "bc72ad89-b22d-48d2-a092-afdd2ef37518",
   "metadata": {
    "tags": []
   },
   "outputs": [],
   "source": [
    "set_cluster_loading(2, C)"
   ]
  },
  {
   "cell_type": "code",
   "execution_count": null,
   "id": "dd4a243d-b355-4c44-9518-58ccbb041cd4",
   "metadata": {
    "tags": []
   },
   "outputs": [],
   "source": [
    "set_cluster_loading(3, C)"
   ]
  },
  {
   "cell_type": "markdown",
   "id": "b6cf55ee",
   "metadata": {},
   "source": [
    "## III.3 - Classification ascendante hiérachique (CAH)"
   ]
  },
  {
   "cell_type": "code",
   "execution_count": null,
   "id": "88a07a10-6c32-49a4-a0fa-212e7f69bdc2",
   "metadata": {
    "tags": []
   },
   "outputs": [],
   "source": [
    "ac = AgglomerativeClustering(linkage='ward', compute_distances=True)\n",
    "plt.figure(figsize = (15, 5))\n",
    "plt.subplot(1,2,1)\n",
    "visualizer = KElbowVisualizer(ac, k=(1,15))\n",
    "visualizer.fit(loading_scaled)  \n",
    "\n",
    "plt.subplot(1,2,2)\n",
    "visualizer = KElbowVisualizer(ac, k=(3,15))\n",
    "visualizer.fit(loading_scaled)  \n",
    "plt.show()"
   ]
  },
  {
   "cell_type": "code",
   "execution_count": null,
   "id": "a29f6af3",
   "metadata": {
    "tags": []
   },
   "outputs": [],
   "source": [
    "ac = AgglomerativeClustering( compute_distances=True, linkage='ward')\n",
    "clusters = ac.fit(loading)\n",
    "\n",
    "children = ac.children_\n",
    "distances = ac.distances_\n",
    "n_observations = np.arange(2, children.shape[0]+2)\n",
    "linkage_matrix = np.c_[children, distances, n_observations]\n",
    "\n",
    "sch.dendrogram(linkage_matrix, labels=ac.labels_)\n",
    "\n",
    "plt.title(\"Dendogramme avec liaison Ward\")\n",
    "plt.show()"
   ]
  },
  {
   "cell_type": "code",
   "execution_count": null,
   "id": "2aeca0c5-20f9-47c4-a798-dd73022f2bb3",
   "metadata": {
    "tags": []
   },
   "outputs": [],
   "source": [
    "K = 6\n",
    "\n",
    "sch.dendrogram(linkage_matrix, labels=ac.labels_)\n",
    "\n",
    "max_d = .5*(ac.distances_[-K]+ac.distances_[-K+1])\n",
    "plt.axhline(y=max_d, c='k')\n",
    "plt.title(\"Dendogramme avec liaison Ward\")\n",
    "plt.show()"
   ]
  },
  {
   "cell_type": "code",
   "execution_count": null,
   "id": "08cc320d-8183-49ee-8304-5a81c0771583",
   "metadata": {
    "tags": []
   },
   "outputs": [],
   "source": [
    "plt.subplot(1,2,1)\n",
    "cmap = plt.get_cmap('Dark2',K)\n",
    "ac = AgglomerativeClustering(n_clusters=K, compute_distances=True, linkage='ward')\n",
    "clusters_ac = ac.fit_predict(loading)\n",
    "plt.scatter(loading_pca[:, 0], loading_pca[:, 1], s=2, c = clusters_ac,linewidths=3, alpha=1, cmap=cmap)\n",
    "plt.title(\"Graphe des Individus - PCA\")\n",
    "plt.xlabel('Composante Principale 1')\n",
    "plt.ylabel('Composante Principale 2')"
   ]
  },
  {
   "cell_type": "code",
   "execution_count": null,
   "id": "b8b3c5ef",
   "metadata": {
    "tags": []
   },
   "outputs": [],
   "source": [
    "set_cluster_loading(0, clusters_ac)"
   ]
  },
  {
   "cell_type": "code",
   "execution_count": null,
   "id": "d4a48cf5",
   "metadata": {
    "tags": []
   },
   "outputs": [],
   "source": [
    "set_cluster_loading(1, clusters_ac)"
   ]
  },
  {
   "cell_type": "code",
   "execution_count": null,
   "id": "89933a97",
   "metadata": {
    "tags": []
   },
   "outputs": [],
   "source": [
    "set_cluster_loading(2, clusters_ac)"
   ]
  },
  {
   "cell_type": "code",
   "execution_count": null,
   "id": "7bedf694",
   "metadata": {
    "tags": []
   },
   "outputs": [],
   "source": [
    "set_cluster_loading(3, clusters_ac)"
   ]
  },
  {
   "cell_type": "code",
   "execution_count": null,
   "id": "e91f25ca",
   "metadata": {
    "tags": []
   },
   "outputs": [],
   "source": [
    "set_cluster_loading(4, clusters_ac)"
   ]
  },
  {
   "cell_type": "code",
   "execution_count": null,
   "id": "d6e8b460",
   "metadata": {
    "tags": []
   },
   "outputs": [],
   "source": [
    "set_cluster_loading(5, clusters_ac)"
   ]
  },
  {
   "cell_type": "code",
   "execution_count": null,
   "id": "179803e8-f2a9-407e-8126-bc5f778dab8a",
   "metadata": {
    "tags": []
   },
   "outputs": [],
   "source": [
    "fig = px.scatter_mapbox(coord, lat = 'latitude', lon = 'longitude',\n",
    "                        mapbox_style = \"carto-positron\",\n",
    "                        color = clusters_ac,\n",
    "                        zoom  = 10, opacity = .9,\n",
    "                        title = 'Visualisation des clusters sur la carte')\n",
    "fig.show()"
   ]
  },
  {
   "cell_type": "markdown",
   "id": "b87c0206",
   "metadata": {},
   "source": [
    "## III.4 - Gaussin mixture models (GMM)"
   ]
  },
  {
   "cell_type": "code",
   "execution_count": null,
   "id": "adfa763b-8c27-43bf-9034-30a52e2b519d",
   "metadata": {
    "tags": []
   },
   "outputs": [],
   "source": [
    "k_max = 15\n",
    "plt.figure(figsize = (15, 5))\n",
    "\n",
    "bic = []\n",
    "for k in range(2, k_max):\n",
    "    gmm = GaussianMixture(n_components=k, init_params='kmeans', n_init=3)\n",
    "    gmm.fit(loading_reduced)\n",
    "    bic.append(gmm.bic(loading_reduced))\n",
    "bic = np.array(bic)\n",
    "\n",
    "plt.scatter(range(2, k_max), bic)\n",
    "plt.title('Avec le critère BIC')\n",
    "\n",
    "plt.show()"
   ]
  },
  {
   "cell_type": "code",
   "execution_count": null,
   "id": "4b06265d-57ee-494c-bb9b-d8e34e772fa9",
   "metadata": {
    "tags": []
   },
   "outputs": [],
   "source": [
    "k_max = 15\n",
    "\n",
    "silhouette = []\n",
    "for k in range(2, k_max):\n",
    "    gmm = GaussianMixture(n_components=k, init_params='kmeans', n_init=1)\n",
    "    clusters_gmm = gmm.fit_predict(loading_reduced)\n",
    "    silhouette.append(silhouette_score(loading_reduced, clusters_gmm, metric='euclidean') )\n",
    "silhouette = np.array(silhouette)\n",
    "\n",
    "plt.scatter(range(2, k_max), silhouette)\n",
    "plt.show()"
   ]
  },
  {
   "cell_type": "code",
   "execution_count": null,
   "id": "4ee200ed-50dc-4fa1-9765-26b747eeda86",
   "metadata": {
    "tags": []
   },
   "outputs": [],
   "source": [
    "K=4\n",
    "gmm = GaussianMixture(n_components=K, n_init=3)\n",
    "clusters_gmm = gmm.fit_predict(loading_reduced)"
   ]
  },
  {
   "cell_type": "code",
   "execution_count": null,
   "id": "15ba938b-d13a-45a6-aed2-a7f0879f0565",
   "metadata": {
    "tags": []
   },
   "outputs": [],
   "source": [
    "plt.subplot(1,2,1)\n",
    "cmap = plt.get_cmap('Dark2',K)\n",
    "plt.scatter(loading_pca[:, 0], loading_pca[:, 1], s=2, c = clusters_gmm,linewidths=3, alpha=1, cmap=cmap)\n",
    "plt.title(\"Graphe des Individus - PCA\")\n",
    "plt.xlabel('Composante Principale 1')\n",
    "plt.ylabel('Composante Principale 2')\n",
    "plt.show()"
   ]
  },
  {
   "cell_type": "code",
   "execution_count": null,
   "id": "ce76a4e1-d1b1-4d66-9f1b-6be78738b0f9",
   "metadata": {
    "tags": []
   },
   "outputs": [],
   "source": [
    "fig = px.scatter_mapbox(coord, lat = 'latitude', lon = 'longitude',\n",
    "                        mapbox_style = \"carto-positron\",\n",
    "                        color = clusters_gmm,\n",
    "                        zoom  = 10, opacity = .9,\n",
    "                        title = 'Visualisation des clusters sur la carte')\n",
    "fig.show()"
   ]
  },
  {
   "cell_type": "code",
   "execution_count": null,
   "id": "acc5db5b-9e25-4d71-952c-6de4d17f1cdf",
   "metadata": {
    "tags": []
   },
   "outputs": [],
   "source": [
    "set_cluster_loading(0, clusters_gmm)"
   ]
  },
  {
   "cell_type": "code",
   "execution_count": null,
   "id": "56dbaadc-baa2-409f-913e-4bf515be60f9",
   "metadata": {
    "tags": []
   },
   "outputs": [],
   "source": [
    "set_cluster_loading(1, clusters_gmm)"
   ]
  },
  {
   "cell_type": "code",
   "execution_count": null,
   "id": "0ff0321d-fd45-41ae-9de6-54202dcb3bf6",
   "metadata": {
    "tags": []
   },
   "outputs": [],
   "source": [
    "set_cluster_loading(2, clusters_gmm)"
   ]
  },
  {
   "cell_type": "code",
   "execution_count": null,
   "id": "13907ab4-6a93-474b-b5c9-e2c65da291e1",
   "metadata": {
    "tags": []
   },
   "outputs": [],
   "source": [
    "set_cluster_loading(3, clusters_gmm)"
   ]
  },
  {
   "cell_type": "markdown",
   "id": "0b52cfbb",
   "metadata": {},
   "source": [
    "# IV - Comparaison des méthodes de classification"
   ]
  },
  {
   "cell_type": "markdown",
   "id": "c04f050d",
   "metadata": {},
   "source": [
    "## IV.1 - Utilisation des données avec ou sans traitement d'ACP"
   ]
  },
  {
   "cell_type": "code",
   "execution_count": null,
   "id": "140e8cad",
   "metadata": {
    "tags": []
   },
   "outputs": [],
   "source": [
    "k = 4\n",
    "\n",
    "loading = pd.read_csv(\"data/velibLoading.csv\", sep = \" \")\n",
    "ss = StandardScaler()\n",
    "loading_scaled = ss.fit_transform(loading)\n",
    "\n",
    "pca = PCA()\n",
    "loading_pca = pca.fit_transform(loading_scaled)\n",
    "loading_reduced = loading_pca[:, :5]\n",
    "\n",
    "reskmeans_pca = KMeans(n_clusters=k, init='k-means++', n_init='auto', random_state=42)\n",
    "c_pca = reskmeans_pca.fit_predict(loading_reduced)\n",
    "\n",
    "reskmeans_no_pca = KMeans(n_clusters=k, init='k-means++', n_init='auto', random_state=42)\n",
    "c_no_pca = reskmeans_no_pca.fit_predict(loading)\n",
    "\n",
    "ConfusionMatrixDisplay(confusion_matrix(c_pca, c_no_pca),display_labels=np.arange(1, k+1)).plot()\n",
    "plt.ylabel('Classe prédite (avec ACP)')\n",
    "plt.xlabel('Classe prédite (sans ACP)')\n",
    "plt.title('Matrice de confusion entre KMeans avec et sans ACP')\n",
    "plt.show()"
   ]
  },
  {
   "cell_type": "code",
   "execution_count": null,
   "id": "4a80117e",
   "metadata": {
    "tags": []
   },
   "outputs": [],
   "source": [
    "def matchClasses(classif1, classif2):\n",
    "    cm = confusion_matrix(classif1, classif2)\n",
    "    K = cm.shape[0]\n",
    "    a, b = np.zeros(K), np.zeros(K)\n",
    "    l = np.linspace(0,K-1,K)\n",
    "    ind = 0\n",
    "    for j in range(K):\n",
    "        for i in range(K):\n",
    "            if (a[j] < cm[i,j] and (i in l)):\n",
    "                a[j] = cm[i,j]\n",
    "                b[j] = i\n",
    "                ind = i\n",
    "        l = np.delete(l, np.where(l == ind)[0])\n",
    "    a = a.astype(int)\n",
    "    b = b.astype(int)\n",
    "                                             \n",
    "    print (\"\")\n",
    "    print (\"Classes size:\", a)\n",
    "    print (\"Class (in the classif1 numbering):\", b)\n",
    "    print (\"\")\n",
    "    \n",
    "    table = cm.copy()\n",
    "    for i in range(K):\n",
    "        table[:,b[i]] = cm[:,i]   \n",
    "        \n",
    "    clusters = classif2.copy()\n",
    "    n = classif2.shape[0]\n",
    "    for i in range(n):\n",
    "        for j in range(K):\n",
    "            if (classif2[i] == j):\n",
    "                clusters[i] = b[j]\n",
    "                \n",
    "    return table, clusters"
   ]
  },
  {
   "cell_type": "code",
   "execution_count": null,
   "id": "ca9cdcd8",
   "metadata": {
    "tags": []
   },
   "outputs": [],
   "source": [
    "cm, clusters_kmeans_sorted = matchClasses(c_pca, c_no_pca)\n",
    "ConfusionMatrixDisplay(cm,display_labels=np.arange(1, k+1)).plot()\n",
    "plt.ylabel('Classe prédite (avec ACP)')\n",
    "plt.xlabel('Classe prédite (sans ACP)')\n",
    "plt.title('Matrice de confusion réordonnée entre KMeans avec et sans ACP')\n",
    "plt.show()"
   ]
  },
  {
   "cell_type": "code",
   "execution_count": null,
   "id": "4dd352c5",
   "metadata": {
    "tags": []
   },
   "outputs": [],
   "source": [
    "cm, clusters_sorted_kmeans4nopca = matchClasses(c_pca, c_no_pca)\n",
    "\n",
    "cm, clusters_gmm_sorted = matchClasses(c_pca, clusters_gmm)\n",
    "\n",
    "cm2, clusters_ac_sorted= matchClasses(kmeans6, clusters_ac)"
   ]
  },
  {
   "cell_type": "markdown",
   "id": "29455629",
   "metadata": {},
   "source": [
    "## IV.2 - Analyse en comparaisons multiples (MCA)"
   ]
  },
  {
   "cell_type": "code",
   "execution_count": null,
   "id": "1b0662be",
   "metadata": {
    "tags": []
   },
   "outputs": [],
   "source": [
    "data_clusters = {\n",
    "    'km2c': reskmeans.labels_,\n",
    "    'km4c': clusters_sorted_kmeans4nopca,\n",
    "    'km6c': reskmeans3.labels_,  \n",
    "    'kmPCA4c': reskmeans_pca.labels_,\n",
    "    'cahC': clusters_ac_sorted,  \n",
    "    'gmmC': clusters_gmm_sorted, \n",
    "    'hill': coord['bonus']\n",
    "}\n",
    "\n",
    "df_clusters = pd.DataFrame(data_clusters)\n",
    "df_clusters.iloc[:, :7] = df_clusters.iloc[:, :7].astype('category')\n",
    "\n",
    "print(df_clusters.dtypes)\n",
    "df_clusters.info()\n"
   ]
  },
  {
   "cell_type": "code",
   "execution_count": null,
   "id": "56744992",
   "metadata": {
    "tags": []
   },
   "outputs": [],
   "source": [
    "df_clusters_quali=df_clusters.iloc[:, :6]\n",
    "\n",
    "res_mca = MCA(n_components=9,n_iter=10,copy=True,check_input=True,engine='sklearn',random_state=42)\n",
    "res_mca.fit(df_clusters_quali)  # Sélection des 6 premières colonnes pour l'analyse MCA\n",
    "\n",
    "display(res_mca.eigenvalues_summary)\n",
    "\n",
    "res_mca.scree_plot()"
   ]
  },
  {
   "cell_type": "code",
   "execution_count": null,
   "id": "1dbf3911",
   "metadata": {
    "scrolled": true,
    "tags": []
   },
   "outputs": [],
   "source": [
    "res_mca.plot(\n",
    "    df_clusters_quali,\n",
    "    x_component=0,\n",
    "    y_component=1,\n",
    "    show_column_markers=True,\n",
    "    show_row_markers=False,\n",
    "    show_column_labels=True,)"
   ]
  },
  {
   "cell_type": "code",
   "execution_count": null,
   "id": "452b2f7e",
   "metadata": {
    "tags": []
   },
   "outputs": [],
   "source": [
    "res_mca.column_cosine_similarities(df_clusters_quali).head()"
   ]
  },
  {
   "cell_type": "code",
   "execution_count": null,
   "id": "2df70142",
   "metadata": {
    "tags": []
   },
   "outputs": [],
   "source": [
    "cos2_dim1 = res_mca.column_cosine_similarities(df_clusters.iloc[:, :6]).iloc[:, 0]\n",
    "\n",
    "cos2_dim1_sorted = cos2_dim1.sort_values(ascending=False)\n",
    "\n",
    "plt.figure(figsize=(10, 6))\n",
    "plt.bar(cos2_dim1_sorted.index, cos2_dim1_sorted.values, color='salmon')\n",
    "plt.xlabel('Variables')\n",
    "plt.ylabel('Cos2 Values (Dimension 1)')\n",
    "plt.title('Cos2 Values for Variables (Dimension 1 - Sorted)')\n",
    "plt.xticks(rotation=45, ha='right')\n",
    "plt.grid(True)\n",
    "plt.show()"
   ]
  },
  {
   "cell_type": "code",
   "execution_count": null,
   "id": "820ccf8d",
   "metadata": {
    "tags": []
   },
   "outputs": [],
   "source": [
    "res_mca.plot(\n",
    "    df_clusters_quali,\n",
    "    x_component=0,\n",
    "    y_component=1,\n",
    "    show_column_markers=False,\n",
    "    show_row_markers=True,\n",
    "    show_column_labels=False,\n",
    "    show_row_labels=True\n",
    ")"
   ]
  },
  {
   "cell_type": "code",
   "execution_count": null,
   "id": "65398f62",
   "metadata": {
    "tags": []
   },
   "outputs": [],
   "source": [
    "contrib = res_mca.column_contributions_.style.format('{:.1%}')\n",
    "display(contrib.highlight_max(color='orange').highlight_min(color='lightblue'))\n",
    "\n",
    "\n",
    "############### Contributions liées a la premiere dimension\n",
    "\n",
    "contrib1 = res_mca.column_contributions_.iloc[:, 0]\n",
    "\n",
    "contrib1_sorted = contrib1.sort_values(ascending=False)\n",
    "\n",
    "plt.figure(figsize=(10, 6))\n",
    "plt.bar(contrib1_sorted.index, contrib1_sorted.values, color='skyblue')\n",
    "plt.title('Pourcentages des contributions des variables selon la composante 1')\n",
    "plt.xlabel('Variables')\n",
    "plt.ylabel('% de contribution')\n",
    "plt.xticks(rotation=45, ha='right')  # Rotation des étiquettes de l'axe des x\n",
    "plt.grid(axis='y', linestyle='--', alpha=0.7)  # Affichage d'une grille en pointillés sur l'axe y\n",
    "plt.show()\n",
    "\n",
    "############### Contributions liées a la seconde dimension\n",
    "\n",
    "contrib2 = res_mca.column_contributions_.iloc[:, 1]\n",
    "\n",
    "contrib2_sorted = contrib2.sort_values(ascending=False)\n",
    "\n",
    "plt.figure(figsize=(10, 6))\n",
    "plt.bar(contrib2_sorted.index, contrib2_sorted.values, color='skyblue')\n",
    "plt.title('Pourcentages des contributions des variables selon la composante 2')\n",
    "plt.xlabel('Variables')\n",
    "plt.ylabel('% de contribution')\n",
    "plt.xticks(rotation=45, ha='right')  # Rotation des étiquettes de l'axe des x\n",
    "plt.grid(axis='y', linestyle='--', alpha=0.7)  # Affichage d'une grille en pointillés sur l'axe y\n",
    "plt.show()"
   ]
  },
  {
   "cell_type": "code",
   "execution_count": null,
   "id": "3533863a",
   "metadata": {
    "tags": []
   },
   "outputs": [],
   "source": [
    "res_mca.plot(\n",
    "    df_clusters.iloc[:, :7],\n",
    "    x_component=0,\n",
    "    y_component=1,\n",
    "    show_column_markers=True,\n",
    "    show_row_markers=False,\n",
    "    show_column_labels=True,\n",
    "    show_row_labels=False\n",
    ")"
   ]
  },
  {
   "cell_type": "code",
   "execution_count": null,
   "id": "cf8b631e",
   "metadata": {
    "tags": []
   },
   "outputs": [],
   "source": [
    "column_coords = res_mca.column_coordinates(df_clusters.iloc[:, :7])\n",
    "\n",
    "colors = list(mcolors.TABLEAU_COLORS.values()) + list(mcolors.XKCD_COLORS.values())[:20] \n",
    "palette = mcolors.ListedColormap(colors)\n",
    "\n",
    "plt.figure(figsize=(10, 8))\n",
    "\n",
    "for i, variable in enumerate(df_clusters.iloc[:, :7].columns):\n",
    "    modalities_coords = column_coords[column_coords.index.str.startswith(variable)]\n",
    "    plt.scatter(modalities_coords.iloc[:, 0], modalities_coords.iloc[:, 1], label=variable, color=palette(i))\n",
    "\n",
    "plt.axhline(0, color='black', linestyle='--', linewidth=0.5)\n",
    "plt.axvline(0, color='black', linestyle='--', linewidth=0.5)\n",
    "\n",
    "plt.title('Corrélation entre les variables et les axes principaux')\n",
    "plt.xlabel('Composante principale 1')\n",
    "plt.ylabel('Composante principale 2')\n",
    "\n",
    "plt.legend()\n",
    "plt.grid(True)\n",
    "plt.show()"
   ]
  },
  {
   "cell_type": "markdown",
   "id": "727de825",
   "metadata": {},
   "source": [
    "# V - MCA sur le jeu de données complet"
   ]
  },
  {
   "cell_type": "code",
   "execution_count": null,
   "id": "2081df52",
   "metadata": {
    "tags": []
   },
   "outputs": [],
   "source": [
    "x = loading.copy()\n",
    "n1 = {}\n",
    "n2 = {}\n",
    "Xcat = coord['bonus'].astype('category')\n",
    "day = np.array(list(range(7, 18+1)))\n",
    "night = np.array(list(range(0, 7)) + list(range(19, 22+1)))\n",
    "labels = [\"a\", \"b\", \"c\"]\n",
    "row_means = np.mean(x, axis=1)\n",
    "quantiles = np.quantile(row_means, [1/3, 2/3])\n",
    "breaks = np.concatenate(([-0.01], quantiles, [1.01]))\n",
    "for i in range(1, 8):\n",
    "    ind = list(day + (i-1)*24)\n",
    "    newCol = np.mean(x.iloc[:, ind], axis=1)\n",
    "    quantiles = np.quantile(newCol, [1/3, 2/3])\n",
    "    newCol = pd.cut(newCol, bins=breaks, labels=labels)\n",
    "    newName = 'day' + str(i)\n",
    "    n1[newName] = newCol\n",
    "Xcat = pd.concat([Xcat, pd.DataFrame(n1)], axis=1)\n",
    " \n",
    "for i in range(1, 8):\n",
    "    ind = list(night + (i-1)*24)\n",
    "    newCol = np.mean(x.iloc[:,ind], axis=1)\n",
    "    quantiles = np.quantile(newCol, [1/3, 2/3])\n",
    "    newCol = pd.cut(newCol, bins=breaks, labels=labels)\n",
    "    newName = 'night' + str(i)\n",
    "    n2[newName] = newCol\n",
    "Xcat = pd.concat([Xcat, pd.DataFrame(n2)], axis=1)"
   ]
  },
  {
   "cell_type": "code",
   "execution_count": null,
   "id": "1d4e07ac",
   "metadata": {
    "tags": []
   },
   "outputs": [],
   "source": [
    "Xcat.head()"
   ]
  },
  {
   "cell_type": "code",
   "execution_count": null,
   "id": "329211ae",
   "metadata": {
    "tags": []
   },
   "outputs": [],
   "source": [
    "res2_mca = MCA(n_components=9,n_iter=10,copy=True,check_input=True,engine='sklearn',random_state=42)\n",
    "res2_mca.fit(Xcat)\n",
    "\n",
    "display(res2_mca.eigenvalues_summary)\n",
    "\n",
    "res_mca.scree_plot()"
   ]
  },
  {
   "cell_type": "code",
   "execution_count": null,
   "id": "591e7997",
   "metadata": {
    "tags": []
   },
   "outputs": [],
   "source": [
    "res2_mca.plot(\n",
    "    Xcat,\n",
    "    x_component=0,\n",
    "    y_component=1,\n",
    "    show_column_markers=True,\n",
    "    show_row_markers=False,\n",
    "    show_column_labels=True,\n",
    "    show_row_labels=False\n",
    ")"
   ]
  },
  {
   "cell_type": "code",
   "execution_count": null,
   "id": "97dcef42",
   "metadata": {
    "tags": []
   },
   "outputs": [],
   "source": [
    "res2_mca.plot(\n",
    "    Xcat,\n",
    "    x_component=0,\n",
    "    y_component=2,\n",
    "    show_column_markers=True,\n",
    "    show_row_markers=False,\n",
    "    show_column_labels=True,\n",
    "    show_row_labels=False\n",
    ")"
   ]
  },
  {
   "cell_type": "code",
   "execution_count": null,
   "id": "bba08beb",
   "metadata": {
    "tags": []
   },
   "outputs": [],
   "source": [
    "column_coords = res2_mca.column_coordinates(Xcat)\n",
    "\n",
    "colors = list(mcolors.TABLEAU_COLORS.values()) + list(mcolors.XKCD_COLORS.values())[:20]\n",
    "palette = mcolors.ListedColormap(colors)\n",
    "\n",
    "plt.figure(figsize=(10, 8))\n",
    "\n",
    "for i, variable in enumerate(Xcat.columns):\n",
    "    modalities_coords = column_coords[column_coords.index.str.startswith(variable)]\n",
    "    plt.scatter(modalities_coords.iloc[:, 0], modalities_coords.iloc[:, 1], label=variable, color=palette(i))\n",
    "\n",
    "plt.axhline(0, color='black', linestyle='--', linewidth=0.5)\n",
    "plt.axvline(0, color='black', linestyle='--', linewidth=0.5)\n",
    "\n",
    "plt.title('Corrélation entre les variables et les axes principaux')\n",
    "plt.xlabel('Composante principale 1')\n",
    "plt.ylabel('Composante principale 2')\n",
    "\n",
    "plt.legend()\n",
    "plt.grid(True)\n",
    "plt.show()"
   ]
  },
  {
   "cell_type": "code",
   "execution_count": null,
   "id": "61979137",
   "metadata": {
    "tags": []
   },
   "outputs": [],
   "source": [
    "res2_mca.plot(\n",
    "    Xcat,\n",
    "    x_component=0,\n",
    "    y_component=1,\n",
    "    show_column_markers=False,\n",
    "    show_row_markers=True,\n",
    "    show_column_labels=False,\n",
    "    show_row_labels=True\n",
    ")"
   ]
  },
  {
   "cell_type": "code",
   "execution_count": null,
   "id": "819868cd",
   "metadata": {
    "tags": []
   },
   "outputs": [],
   "source": [
    "cos2_dim1 = res2_mca.column_cosine_similarities(Xcat).iloc[:, 0]\n",
    "\n",
    "cos2_dim1_sorted = cos2_dim1.sort_values(ascending=False)\n",
    "\n",
    "plt.figure(figsize=(10, 6))\n",
    "plt.bar(cos2_dim1_sorted.index, cos2_dim1_sorted.values, color='salmon')\n",
    "plt.xlabel('Variables')\n",
    "plt.ylabel('Cos2 Values (Dimension 1)')\n",
    "plt.title('Cos2 Values for Variables (Dimension 1 - Sorted)')\n",
    "plt.xticks(rotation=45, ha='right') \n",
    "plt.grid(True)\n",
    "plt.show()\n"
   ]
  },
  {
   "cell_type": "code",
   "execution_count": null,
   "id": "0f3aceb4",
   "metadata": {
    "tags": []
   },
   "outputs": [],
   "source": [
    "contrib = res2_mca.column_contributions_.style.format('{:.1%}')\n",
    "display(contrib.highlight_max(color='orange').highlight_min(color='lightblue'))"
   ]
  },
  {
   "cell_type": "code",
   "execution_count": null,
   "id": "9d1b9f9e-1491-43fe-bddd-83c8faf5ee17",
   "metadata": {},
   "outputs": [],
   "source": []
  }
 ],
 "metadata": {
  "kernelspec": {
   "display_name": "Python 3 (ipykernel)",
   "language": "python",
   "name": "python3"
  },
  "language_info": {
   "codemirror_mode": {
    "name": "ipython",
    "version": 3
   },
   "file_extension": ".py",
   "mimetype": "text/x-python",
   "name": "python",
   "nbconvert_exporter": "python",
   "pygments_lexer": "ipython3",
   "version": "3.11.7"
  }
 },
 "nbformat": 4,
 "nbformat_minor": 5
}
